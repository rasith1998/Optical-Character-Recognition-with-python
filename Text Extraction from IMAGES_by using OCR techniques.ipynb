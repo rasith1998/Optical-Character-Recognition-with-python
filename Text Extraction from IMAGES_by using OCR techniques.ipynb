{
 "cells": [
  {
   "cell_type": "markdown",
   "id": "05df6883",
   "metadata": {},
   "source": [
    "### Install necessary packages"
   ]
  },
  {
   "cell_type": "code",
   "execution_count": 1,
   "id": "4d48d924",
   "metadata": {},
   "outputs": [],
   "source": [
    "#!pip install pytesseract"
   ]
  },
  {
   "cell_type": "code",
   "execution_count": 2,
   "id": "b9d5a015",
   "metadata": {},
   "outputs": [],
   "source": [
    "import pytesseract "
   ]
  },
  {
   "cell_type": "code",
   "execution_count": 3,
   "id": "5bfaf2de",
   "metadata": {},
   "outputs": [],
   "source": [
    "#!pip install opencv-python"
   ]
  },
  {
   "cell_type": "code",
   "execution_count": 4,
   "id": "de1e7c1c",
   "metadata": {},
   "outputs": [],
   "source": [
    "import os # To import test image files\n",
    "import cv2 # To work with opencv images\n",
    "from PIL import Image # Image submodule to work with pillow images\n",
    "import pytesseract as pt # pytesseract module"
   ]
  },
  {
   "cell_type": "code",
   "execution_count": 5,
   "id": "72d5a0c2",
   "metadata": {},
   "outputs": [
    {
     "name": "stdout",
     "output_type": "stream",
     "text": [
      "abc-text.jpg\n",
      "bound-text-1.jpg\n",
      "bound-text-2.jpg\n",
      "contact-1.jpg\n",
      "hello-text.jpg\n",
      "hindi-news-1.jpg\n",
      "hindi-news-2.jpg\n",
      "hindi-text-1.jpg\n",
      "hindi-text-2.jpg\n",
      "image-paths.txt\n",
      "jap-text-1.png\n",
      "jap-text-2.png\n",
      "letter-1.png\n",
      "magazine-1.jpg\n",
      "news-1.png\n",
      "news-2.jpg\n",
      "portu-text-1.jpg\n",
      "portu-text-2.jpg\n",
      "selfie-circle.jpg\n",
      "sin-text-1.gif\n",
      "sin-text-2.gif\n",
      "span-text-1.png\n",
      "tam-text-1.png\n"
     ]
    }
   ],
   "source": [
    "#Set the path for images file\n",
    "test_img_path = r\"E:\\Data Science\\OCR_Project\\test images\"\n",
    "create_path = lambda f : os.path.join(test_img_path, f)\n",
    "\n",
    "test_image_files = os.listdir(test_img_path)\n",
    "\n",
    "for f in test_image_files:\n",
    "    print(f)"
   ]
  },
  {
   "cell_type": "code",
   "execution_count": 6,
   "id": "8b55c0bc",
   "metadata": {},
   "outputs": [],
   "source": [
    "## \n",
    "def show_image(img_path, size=(500, 500)):\n",
    "    image = cv2.imread(img_path)\n",
    "    image = cv2.resize(image, size)\n",
    "    \n",
    "    cv2.imshow(\"IMAGE\", image)\n",
    "    cv2.waitKey(0)\n",
    "    cv2.destroyAllWindows()"
   ]
  },
  {
   "cell_type": "code",
   "execution_count": 7,
   "id": "048868ec",
   "metadata": {},
   "outputs": [],
   "source": [
    "# optional: only if you haven't configured PATH\n",
    "pt.pytesseract.tesseract_cmd = r\"C:\\Program Files\\Tesseract-OCR\\tesseract.exe\" # provide full path to tesseract.exe"
   ]
  },
  {
   "cell_type": "code",
   "execution_count": 8,
   "id": "08b260d3",
   "metadata": {},
   "outputs": [
    {
     "name": "stdout",
     "output_type": "stream",
     "text": [
      "eng\n",
      "hin\n",
      "jpn\n",
      "osd\n",
      "por\n",
      "sin\n",
      "tam\n"
     ]
    }
   ],
   "source": [
    "## Check out the available languages\n",
    "# using cmd: tesseract --list-langs\n",
    "avb_langs = pt.get_languages(config='')\n",
    "\n",
    "for lang in avb_langs:\n",
    "    print(lang)"
   ]
  },
  {
   "cell_type": "markdown",
   "id": "82bf079f",
   "metadata": {},
   "source": [
    "## Extract text from an image : Simple"
   ]
  },
  {
   "cell_type": "code",
   "execution_count": 9,
   "id": "a615e9aa",
   "metadata": {},
   "outputs": [
    {
     "name": "stdout",
     "output_type": "stream",
     "text": [
      ") KEYS\n",
      "\n",
      "Ardeschir Kimiaei\n",
      "\n",
      "Sicherheitsfachberater\n",
      "\n",
      "Leipziger StraRe 227, T. 0531/ 317 908-33\n",
      "38124 Braunschweig F. 0531/ 317 908-39\n",
      "www.kim-key.de ardeschir.kimiaei@kim-key.de\n",
      "\n",
      "info@kim-key.de\n",
      "\n",
      "= a\n",
      "A) sicherheitssysteme iL} Bauelomente @ Brandschutz Fo Klima\n",
      "\n",
      "\n"
     ]
    }
   ],
   "source": [
    "image_path = test_image_files[3] # 2, 3, 12, 1, 13, 15\n",
    "path = create_path(image_path)\n",
    "\n",
    "image = Image.open(path)\n",
    "text = pt.image_to_string(image)\n",
    "\n",
    "print(text)\n",
    "show_image(path)"
   ]
  },
  {
   "cell_type": "code",
   "execution_count": 10,
   "id": "e3a5c639",
   "metadata": {},
   "outputs": [],
   "source": [
    "### Extract text from an image : Specifying a language\n",
    "path = create_path(\"portu-text-2.jpg\")\n",
    "\n",
    "image = Image.open(path)\n",
    "text = pt.image_to_string(image, lang='por')#por=portukal\n",
    "\n",
    "print(text)\n",
    "show_image(path)"
   ]
  },
  {
   "cell_type": "markdown",
   "id": "7e5e3170",
   "metadata": {},
   "source": [
    "### Extract text from an image : Multiple images once"
   ]
  },
  {
   "cell_type": "code",
   "execution_count": 14,
   "id": "10343537",
   "metadata": {},
   "outputs": [
    {
     "name": "stdout",
     "output_type": "stream",
     "text": [
      "\f",
      "日本語の衣\"し こおいては, 漢字ゃ仮名だけで\n",
      "な〈, ロ一マ字ゃアラビア数字' さらに句読\n",
      "点ゃ括弧類などの記述記号を用いる。 これら\n",
      "を糾み合わせて表す日本語の文書では, 表記\n",
      "上における種々の問題がぁる。\n",
      "\n",
      "\n"
     ]
    }
   ],
   "source": [
    "img_name_txt_file = r\"E:\\Data Science\\OCR_Project\\test images\\image-paths.txt\" #This notepad contains paths of images\n",
    "text = pt.image_to_string(img_name_txt_file, lang='jpn')\n",
    "\n",
    "print(text)"
   ]
  },
  {
   "cell_type": "markdown",
   "id": "943219fb",
   "metadata": {},
   "source": [
    "### Extract text from an image : Timeout extraction"
   ]
  },
  {
   "cell_type": "code",
   "execution_count": 16,
   "id": "4eef817d",
   "metadata": {},
   "outputs": [
    {
     "name": "stdout",
     "output_type": "stream",
     "text": [
      "ar\n",
      "\n",
      "he\n",
      "\n",
      "DNHONtAd HON\n",
      "\n",
      "ISSUE NO.9.164\n",
      "Fs\n",
      "\n",
      "60\n",
      "\n",
      "MONDAY 22 FEBRUARY 2016 ‘WWW.INDEPENDENT.CO.UK\n",
      "\n",
      "The hypocrisy of ‘no platform’ fury voce:ns»\n",
      "\n",
      "Robert Fisk Matthew Norman\n",
      "‘The Raqqa teacher ‘You may not like her, but\n",
      "evicted by her students | the world needs Hillary\n",
      "VoIcEs P.20 VOICES .20\n",
      "Virginia Ironside Ben Chu\n",
      "Group therapy is nothing | Help to Buy has barely : -\n",
      "\n",
      "Our failed Utopias to be frightened of helped at all Lena Dunham at 30\n",
      "Better worlds gone wrong sicreao DILEMMAS P.37 BUSINESS P53 On life after ‘Girls’ artspso\n",
      "\n",
      "N\n",
      "\n",
      "‘After days of speculation, Boris Johnson announced yesterday that he will be ‘advocating Vote Leave ... because I want a better deal’ gpa\n",
      "\n",
      "Out for himse\n",
      "\n",
      "Boris Johnson confirms he will back Brexit — putting him in line for No 10 if UK votes to leave\n",
      "Downing Street fears up to 150 Tory MPs could defy PM by campaigning against his EU deal\n",
      "\n",
      "country out ofthe European Vote Leave”.Butsignificantly istovotetogo;because all EU of the “leave” campaign and\n",
      "Unionbybecomingthemost he seemed to suggest that a_ history shows that they only _ the front-runner to become\n",
      "significant Tory to declare in “leave” vote might not nec- really listen toa population _ prime minister should be the\n",
      "favour of Brexit. essarily be final and could when it says no,\"he said. “I country vote Out in June’s\n",
      "\n",
      "Mdm “The London Mayor said instead esultina“new rela wouldliketobeinareformed referendum.\n",
      "Boris Johnson has gambled yesterday that after a“huge tionship” betweenthe UKand  EUandthat’smyhope,anEU While Mr Cameron has\n",
      "his long-standing ambition amount of heartache” he had _rest of Europe based upon that’s based on fundamental _insisted he would stay on\n",
      "\n",
      "OLIVER WRIGHT\n",
      "POLITICAL EDITOR\n",
      "\n",
      "to become Britain’s next made the “agonisingly diffi- “trade and co-operation”. treaty change. whatever the result, most\n",
      "prime minister on winning cult” decision to go against _‘“Thereisonlyonewaytoget_ Mr Johnson’s decision\n",
      "the referendum to pull the DavidCameronand“advocate thechangeweneed-andthat makes him the natural leader Continued on Pi\n",
      "\n",
      "INSIDE: FULL RE F THE EU RE!\n",
      "\n",
      "wT\n",
      "\n",
      "\n"
     ]
    }
   ],
   "source": [
    "path = create_path(\"news-2.jpg\")\n",
    "\n",
    "image = Image.open(path)\n",
    "text = 'NO TEXT TO BE APPEARED'\n",
    "\n",
    "try:\n",
    "    text = pt.image_to_string(image, lang='eng', timeout=3)\n",
    "except RuntimeError as timeout_error:\n",
    "    print(\"[TIMEOUT ERROR]\")\n",
    "\n",
    "print(text)\n",
    "show_image(path)"
   ]
  },
  {
   "cell_type": "markdown",
   "id": "94dd769a",
   "metadata": {},
   "source": [
    "### Get bounding box estimates"
   ]
  },
  {
   "cell_type": "code",
   "execution_count": 19,
   "id": "8cdb4454",
   "metadata": {},
   "outputs": [
    {
     "name": "stdout",
     "output_type": "stream",
     "text": [
      "~ 0 0 0 0 0\n",
      "\n"
     ]
    }
   ],
   "source": [
    "path = create_path(\"jap-text-1.png\") #This Code will crop images\n",
    "\n",
    "image = Image.open(path)\n",
    "bound_rects = pt.image_to_boxes(image, lang='jpn')\n",
    "\n",
    "print(bound_rects)\n",
    "show_image(path)"
   ]
  },
  {
   "cell_type": "code",
   "execution_count": 20,
   "id": "0662a4d0",
   "metadata": {},
   "outputs": [],
   "source": [
    "img = cv2.imread(path)\n",
    "h, _, _ = img.shape\n",
    "\n",
    "for b in bound_rects.splitlines():\n",
    "    b = b.strip().split(' ')\n",
    "    img = cv2.rectangle(img, (int(b[1]), h - int(b[2])), (int(b[3]), h - int(b[4])), (0, 255, 0), 2)\n",
    "\n",
    "cv2.imshow(\"CHARACTERIZED IMAGE\", img)\n",
    "cv2.waitKey(0)\n",
    "cv2.destroyAllWindows()"
   ]
  },
  {
   "cell_type": "markdown",
   "id": "d9a9b65c",
   "metadata": {},
   "source": [
    "### Get verbose data including boxes, confidences, line and page numbers"
   ]
  },
  {
   "cell_type": "code",
   "execution_count": 21,
   "id": "94aae3c6",
   "metadata": {},
   "outputs": [
    {
     "name": "stdout",
     "output_type": "stream",
     "text": [
      "level\tpage_num\tblock_num\tpar_num\tline_num\tword_num\tleft\ttop\twidth\theight\tconf\ttext\n",
      "1\t1\t0\t0\t0\t0\t0\t0\t674\t674\t-1\t\n",
      "2\t1\t1\t0\t0\t0\t11\t129\t653\t406\t-1\t\n",
      "3\t1\t1\t1\t0\t0\t11\t129\t653\t406\t-1\t\n",
      "4\t1\t1\t1\t1\t0\t123\t129\t427\t66\t-1\t\n",
      "5\t1\t1\t1\t1\t1\t123\t129\t206\t59\t95.682785\tWEAK\n",
      "5\t1\t1\t1\t1\t2\t351\t159\t199\t36\t0.000000\tprope\n",
      "4\t1\t1\t1\t2\t0\t179\t214\t312\t49\t-1\t\n",
      "5\t1\t1\t1\t2\t1\t179\t214\t312\t49\t94.726707\tREVENGE.\n",
      "4\t1\t1\t1\t3\t0\t95\t264\t485\t67\t-1\t\n",
      "5\t1\t1\t1\t3\t1\t95\t264\t262\t60\t93.304192\tSTRONG\n",
      "5\t1\t1\t1\t3\t2\t382\t296\t198\t35\t49.721970\tpEoPLE\n",
      "4\t1\t1\t1\t4\t0\t190\t350\t290\t42\t-1\t\n",
      "5\t1\t1\t1\t4\t1\t190\t350\t290\t42\t96.412842\tFORGIVE.\n",
      "4\t1\t1\t1\t5\t0\t11\t401\t653\t66\t-1\t\n",
      "5\t1\t1\t1\t5\t1\t11\t401\t430\t59\t93.241913\tINTELLIGENT\n",
      "5\t1\t1\t1\t5\t2\t466\t433\t198\t34\t19.838326\tpropLe\n",
      "4\t1\t1\t1\t6\t0\t208\t485\t255\t50\t-1\t\n",
      "5\t1\t1\t1\t6\t1\t208\t485\t255\t50\t96.290016\tIGNORE.\n",
      "2\t1\t2\t0\t0\t0\t323\t647\t351\t27\t-1\t\n",
      "3\t1\t2\t1\t0\t0\t323\t647\t351\t27\t-1\t\n",
      "4\t1\t2\t1\t1\t0\t323\t647\t351\t27\t-1\t\n",
      "5\t1\t2\t1\t1\t1\t323\t647\t351\t27\t95.000000\t \n",
      "\n"
     ]
    }
   ],
   "source": [
    "image_path = test_image_files[2]\n",
    "path = create_path(image_path)\n",
    "\n",
    "image = Image.open(path)\n",
    "text = pt.image_to_data(image)\n",
    "\n",
    "print(text)\n",
    "show_image(path)"
   ]
  },
  {
   "cell_type": "markdown",
   "id": "b415c8a5",
   "metadata": {},
   "source": [
    "### Get information about orientation and script detection"
   ]
  },
  {
   "cell_type": "code",
   "execution_count": 22,
   "id": "4ca0ca34",
   "metadata": {},
   "outputs": [
    {
     "name": "stdout",
     "output_type": "stream",
     "text": [
      "Page number: 0\n",
      "Orientation in degrees: 270\n",
      "Rotate: 90\n",
      "Orientation confidence: 76.00\n",
      "Script: Latin\n",
      "Script confidence: 2.00\n",
      "\n"
     ]
    }
   ],
   "source": [
    "image_path = \"hindi-text-1.jpg\" # news-2.jpg hindi-news-1.jpg hindi-news-2.jpg hindi-text-1.jpg\n",
    "path = create_path(image_path)\n",
    "\n",
    "print(pt.image_to_osd(path, lang='hin'))"
   ]
  },
  {
   "cell_type": "markdown",
   "id": "bb4207e7",
   "metadata": {},
   "source": [
    "# Convert into different file formats (PDF, XML, HOCR)"
   ]
  },
  {
   "cell_type": "code",
   "execution_count": 23,
   "id": "f224fd4a",
   "metadata": {},
   "outputs": [],
   "source": [
    "image_path = \"news-2.jpg\"\n",
    "path = create_path(image_path)\n",
    "file_save_path = \"E:\\Data Science\\OCR_Project\""
   ]
  },
  {
   "cell_type": "markdown",
   "id": "f318ddb7",
   "metadata": {},
   "source": [
    "## PDF"
   ]
  },
  {
   "cell_type": "code",
   "execution_count": 24,
   "id": "e021dcdf",
   "metadata": {},
   "outputs": [],
   "source": [
    "pdf = pt.image_to_pdf_or_hocr(path, extension='pdf')\n",
    "\n",
    "file = open(os.path.join(file_save_path, \"pdf-content.pdf\"), 'w+b')#Write and Binary mode\n",
    "file.write(pdf)\n",
    "file.close()"
   ]
  },
  {
   "cell_type": "markdown",
   "id": "362caf6e",
   "metadata": {},
   "source": [
    "## HOCR"
   ]
  },
  {
   "cell_type": "code",
   "execution_count": 26,
   "id": "0fb90fe2",
   "metadata": {},
   "outputs": [],
   "source": [
    "# hocr: open standard of data representation for formatted text obtained from (OCR)\n",
    "hocr = pt.image_to_pdf_or_hocr(path, extension='hocr')\n",
    "\n",
    "file = open(os.path.join(file_save_path, \"hocr-content.html\"), 'w+b')\n",
    "file.write(hocr)\n",
    "file.close()"
   ]
  },
  {
   "cell_type": "markdown",
   "id": "8e743579",
   "metadata": {},
   "source": [
    "## XML"
   ]
  },
  {
   "cell_type": "code",
   "execution_count": 27,
   "id": "6a595452",
   "metadata": {},
   "outputs": [],
   "source": [
    "xml = pt.image_to_alto_xml(path)\n",
    "\n",
    "file = open(os.path.join(file_save_path, \"xml-content.xml\"), 'w+b')\n",
    "file.write(xml)\n",
    "file.close()"
   ]
  },
  {
   "cell_type": "markdown",
   "id": "50036772",
   "metadata": {},
   "source": [
    "## Custom Configurations"
   ]
  },
  {
   "cell_type": "markdown",
   "id": "d3a83ba8",
   "metadata": {},
   "source": [
    "OEM : OCR Engine Mode (Type of the algorithm used by tesseract)\n",
    "\n",
    "PEM : Page Segmentation Mode (Page semgentation mode used by tesseract)"
   ]
  },
  {
   "cell_type": "code",
   "execution_count": 28,
   "id": "08e18ae6",
   "metadata": {},
   "outputs": [
    {
     "data": {
      "text/plain": [
       "'QD\\n'"
      ]
     },
     "execution_count": 28,
     "metadata": {},
     "output_type": "execute_result"
    }
   ],
   "source": [
    "image_path = \"abc-text.jpg\"\n",
    "path = create_path(image_path)\n",
    "custom_oem_psm_config = r'--oem 3 --psm 9'\n",
    "\n",
    "image = Image.open(path)\n",
    "pt.image_to_string(image, config=custom_oem_psm_config)"
   ]
  },
  {
   "cell_type": "markdown",
   "id": "0ec640c1",
   "metadata": {},
   "source": [
    "### Reference\n",
    "#### [tesseract](https://github.com/tesseract-ocr/tesseract)"
   ]
  },
  {
   "cell_type": "code",
   "execution_count": null,
   "id": "29af138a",
   "metadata": {},
   "outputs": [],
   "source": []
  }
 ],
 "metadata": {
  "kernelspec": {
   "display_name": "Python 3 (ipykernel)",
   "language": "python",
   "name": "python3"
  },
  "language_info": {
   "codemirror_mode": {
    "name": "ipython",
    "version": 3
   },
   "file_extension": ".py",
   "mimetype": "text/x-python",
   "name": "python",
   "nbconvert_exporter": "python",
   "pygments_lexer": "ipython3",
   "version": "3.9.7"
  }
 },
 "nbformat": 4,
 "nbformat_minor": 5
}
